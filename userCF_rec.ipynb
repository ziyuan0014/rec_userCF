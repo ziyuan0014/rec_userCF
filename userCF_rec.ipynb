{
 "cells": [
  {
   "cell_type": "code",
   "execution_count": 2,
   "metadata": {
    "collapsed": true
   },
   "outputs": [],
   "source": [
    "import pandas as pd\n",
    "import numpy as np\n",
    "import time"
   ]
  },
  {
   "cell_type": "code",
   "execution_count": 3,
   "metadata": {
    "collapsed": true
   },
   "outputs": [],
   "source": [
    "import warnings\n",
    "warnings.filterwarnings('ignore')"
   ]
  },
  {
   "cell_type": "code",
   "execution_count": 4,
   "metadata": {},
   "outputs": [
    {
     "data": {
      "text/html": [
       "<div>\n",
       "<style scoped>\n",
       "    .dataframe tbody tr th:only-of-type {\n",
       "        vertical-align: middle;\n",
       "    }\n",
       "\n",
       "    .dataframe tbody tr th {\n",
       "        vertical-align: top;\n",
       "    }\n",
       "\n",
       "    .dataframe thead th {\n",
       "        text-align: right;\n",
       "    }\n",
       "</style>\n",
       "<table border=\"1\" class=\"dataframe\">\n",
       "  <thead>\n",
       "    <tr style=\"text-align: right;\">\n",
       "      <th></th>\n",
       "      <th>user_id</th>\n",
       "      <th>content_id</th>\n",
       "      <th>score</th>\n",
       "      <th>ts</th>\n",
       "    </tr>\n",
       "  </thead>\n",
       "  <tbody>\n",
       "    <tr>\n",
       "      <th>0</th>\n",
       "      <td>1</td>\n",
       "      <td>1</td>\n",
       "      <td>5</td>\n",
       "      <td>874965758</td>\n",
       "    </tr>\n",
       "    <tr>\n",
       "      <th>1</th>\n",
       "      <td>1</td>\n",
       "      <td>2</td>\n",
       "      <td>3</td>\n",
       "      <td>876893171</td>\n",
       "    </tr>\n",
       "    <tr>\n",
       "      <th>2</th>\n",
       "      <td>1</td>\n",
       "      <td>3</td>\n",
       "      <td>4</td>\n",
       "      <td>878542960</td>\n",
       "    </tr>\n",
       "    <tr>\n",
       "      <th>3</th>\n",
       "      <td>1</td>\n",
       "      <td>4</td>\n",
       "      <td>3</td>\n",
       "      <td>876893119</td>\n",
       "    </tr>\n",
       "    <tr>\n",
       "      <th>4</th>\n",
       "      <td>1</td>\n",
       "      <td>5</td>\n",
       "      <td>3</td>\n",
       "      <td>889751712</td>\n",
       "    </tr>\n",
       "  </tbody>\n",
       "</table>\n",
       "</div>"
      ],
      "text/plain": [
       "   user_id  content_id  score         ts\n",
       "0        1           1      5  874965758\n",
       "1        1           2      3  876893171\n",
       "2        1           3      4  878542960\n",
       "3        1           4      3  876893119\n",
       "4        1           5      3  889751712"
      ]
     },
     "execution_count": 4,
     "metadata": {},
     "output_type": "execute_result"
    }
   ],
   "source": [
    "# 导入数据 \n",
    "data_path=r'./data/ua.base'\n",
    "\n",
    "pd_data = pd.read_csv(data_path, sep=\"\\t\", header=None, names=[\"user_id\", \"content_id\", \"score\", \"ts\"])\n",
    "pd_data.head()"
   ]
  },
  {
   "cell_type": "code",
   "execution_count": 5,
   "metadata": {
    "collapsed": true
   },
   "outputs": [],
   "source": [
    "def cirRatMatrix(pd_data,userId,contentId,score):\n",
    "    \"\"\"\n",
    "    计算评分矩阵\n",
    "    - param: \n",
    "        pd_data: 原始数据\n",
    "        userId: 用户列名\n",
    "        contentId: 内容列名\n",
    "        score: 评分列名\n",
    "    - return: \n",
    "        pd_data: 新增了两个编码列的数据表\n",
    "        rating: 评分矩阵\n",
    "    \"\"\"\n",
    "\n",
    "    pd_data['user_factorize_id'],_ = pd.factorize(pd_data[userId])\n",
    "    pd_data['content_factorize_id'],_ = pd.factorize(pd_data[contentId])\n",
    "    \n",
    "    userNo = pd_data['user_factorize_id'].max() + 1\n",
    "    contentNo = pd_data['content_factorize_id'].max() + 1\n",
    "    \n",
    "    rating = np.zeros((contentNo,userNo))\n",
    "    #查看矩阵ratings_df的第一维度是多少\n",
    "    for _,row in pd_data.iterrows():\n",
    "        #interrows（），对原始数据进行遍历\n",
    "        rating[int(row['content_factorize_id']),int(row['user_factorize_id'])] = row[score]\n",
    "    return pd_data,rating"
   ]
  },
  {
   "cell_type": "code",
   "execution_count": 6,
   "metadata": {
    "collapsed": true
   },
   "outputs": [],
   "source": [
    "def cos_dist(vec1,vec2):\n",
    "    \"\"\"\n",
    "    - param: \n",
    "        vec1: 向量1\n",
    "        vec2: 向量2\n",
    "    - return: \n",
    "        dist: 两个向量的余弦相似度\n",
    "    \"\"\"\n",
    "    \n",
    "    if vec1.sum()==0 or vec2.sum()==0:\n",
    "        dist = 0\n",
    "    else:\n",
    "        dist = float(np.dot(vec1,vec2)/(np.linalg.norm(vec1)*np.linalg.norm(vec2)))\n",
    "    return dist\n",
    "\n"
   ]
  },
  {
   "cell_type": "code",
   "execution_count": 7,
   "metadata": {
    "collapsed": true
   },
   "outputs": [],
   "source": [
    "\n",
    "def reGetUserId(pd_factorize_data,user_factorize_id):\n",
    "    '''\n",
    "    根据 user_factorize_id 返回对应的 user_id\n",
    "    '''\n",
    "    user_id = pd_factorize_data[pd_factorize_data['user_factorize_id'] == user_factorize_id][\"user_id\"].values[0]\n",
    "    return user_id\n",
    "\n",
    "def reGetContentId(pd_factorize_data,content_factorize_id):\n",
    "    '''\n",
    "    根据 content_factorize_id 返回对应的 content_id\n",
    "    '''\n",
    "    content_id = pd_factorize_data[pd_factorize_data['content_factorize_id'] == content_factorize_id]['content_id'].values[0]\n",
    "    return content_id\n"
   ]
  },
  {
   "cell_type": "code",
   "execution_count": null,
   "metadata": {
    "collapsed": true
   },
   "outputs": [],
   "source": []
  },
  {
   "cell_type": "code",
   "execution_count": 15,
   "metadata": {
    "collapsed": true
   },
   "outputs": [],
   "source": [
    "def UserCF(pd_factorize_data,rating):\n",
    "    '''\n",
    "    基于用户的协同过滤\n",
    "    - param: \n",
    "        pd_factorize_data: 包含user_factorize_id的数据表\n",
    "        rating: （编码后的）用户对物品的评分矩阵\n",
    "    - return: \n",
    "        user_rec_dict： 推荐池，key为author_id\n",
    "        user_rec_score_dict：  与推荐池中内容对应的推荐分数\n",
    "    '''\n",
    "    start_time = time.time()\n",
    "    userNum = pd_factorize_data['user_factorize_id'].max() + 1\n",
    "    # step1: 计算用户之间的相似度\n",
    "    user_sim_matrix = np.zeros((userNum,userNum))\n",
    "    rating_T = rating.T\n",
    "    idx = 0\n",
    "    while idx < len(rating_T):\n",
    "        idy = idx + 1\n",
    "        while idy < len(rating_T):\n",
    "            user_sim_matrix[idx,idy] = cos_dist(rating_T[idx],rating_T[idy])\n",
    "            idy = idy +1\n",
    "        idx = idx + 1\n",
    "\n",
    "    # step2: 返回相似用户\n",
    "    sim_user_list = []\n",
    "    sim_user_dict = {}\n",
    "    sim_user_max_len = 5 # 定义给每个人最大的相似用户数量\n",
    "    for i in range(userNum):\n",
    "        temp_series = pd.DataFrame(user_sim_matrix[i],columns=['user_factorize_'+str(i)])\n",
    "        sim_user_index = temp_series.sort_values(by = 'user_factorize_'+str(i),ascending = False)[0:sim_user_max_len].index.tolist()\n",
    "        for user_index in sim_user_index:\n",
    "            if temp_series.iloc[user_index].values == 0:\n",
    "                sim_user_index.remove(user_index)\n",
    "        sim_user_dict[i] = sim_user_index\n",
    "        sim_user_list.append(sim_user_index)\n",
    "        \n",
    "    # step3: 根据相似用户的浏览情况进行推荐\n",
    "    user_rec_dict = {}\n",
    "    user_rec_score_dict = {}\n",
    "    for user,sim_user_list in sim_user_dict.items():\n",
    "        #print('now deal with the user:'+str(user))\n",
    "        user_data = pd_factorize_data[pd_factorize_data['user_factorize_id'] == user]\n",
    "        user_content_list = user_data[['content_id']].values  # 获取用户之前浏览过的内容\n",
    "        rec_num = 0\n",
    "        rec_list = []\n",
    "        rec_score_list = []\n",
    "        for sim_user in sim_user_list:\n",
    "            sim_user_data = pd_factorize_data[pd_factorize_data['user_factorize_id'] == sim_user]\n",
    "            sim_user_data['rec_socre'] = user_sim_matrix[user][sim_user] * sim_user_data['score']   # 推荐得分 = 用户相似度 * 用户对content_id的评分\n",
    "            sim_user_data = sim_user_data.sort_values(by = 'rec_socre',ascending=False)\n",
    "            # 去重\n",
    "            for indexs in sim_user_data.index:\n",
    "                if sim_user_data.loc[indexs]['rec_socre']>0 and sim_user_data.loc[indexs]['content_id'] not in user_content_list:\n",
    "                    if sim_user_data.loc[indexs]['content_id'] not in rec_list: # 不同的相似用户可能都会推荐同一个content，这里默认只取第一个相似用户的推荐\n",
    "                        rec_list.append(int(sim_user_data.loc[indexs]['content_id']))\n",
    "                        rec_score_list.append(sim_user_data.loc[indexs]['rec_socre'])\n",
    "                    rec_num = rec_num + 1\n",
    "        if len(rec_list) > 0:\n",
    "            user_rec_dict[reGetUserId(pd_factorize_data,user)] = rec_list\n",
    "            user_rec_score_dict[reGetUserId(pd_factorize_data,user)] = rec_score_list\n",
    "    cost_time = time.time() - start_time\n",
    "    \n",
    "    print('deal with %d users,the total cost %0.2f seconds' %(userNum,cost_time))\n",
    "\n",
    "    return user_rec_dict , user_rec_score_dict\n",
    "    "
   ]
  },
  {
   "cell_type": "code",
   "execution_count": 17,
   "metadata": {
    "collapsed": true
   },
   "outputs": [],
   "source": [
    "pd_factorize_data,rating_matrix = cirRatMatrix(pd_data,\"user_id\",\"content_id\",\"score\")"
   ]
  },
  {
   "cell_type": "code",
   "execution_count": 18,
   "metadata": {},
   "outputs": [
    {
     "data": {
      "text/html": [
       "<div>\n",
       "<style scoped>\n",
       "    .dataframe tbody tr th:only-of-type {\n",
       "        vertical-align: middle;\n",
       "    }\n",
       "\n",
       "    .dataframe tbody tr th {\n",
       "        vertical-align: top;\n",
       "    }\n",
       "\n",
       "    .dataframe thead th {\n",
       "        text-align: right;\n",
       "    }\n",
       "</style>\n",
       "<table border=\"1\" class=\"dataframe\">\n",
       "  <thead>\n",
       "    <tr style=\"text-align: right;\">\n",
       "      <th></th>\n",
       "      <th>user_id</th>\n",
       "      <th>content_id</th>\n",
       "      <th>score</th>\n",
       "      <th>ts</th>\n",
       "      <th>user_factorize_id</th>\n",
       "      <th>content_factorize_id</th>\n",
       "    </tr>\n",
       "  </thead>\n",
       "  <tbody>\n",
       "    <tr>\n",
       "      <th>0</th>\n",
       "      <td>1</td>\n",
       "      <td>1</td>\n",
       "      <td>5</td>\n",
       "      <td>874965758</td>\n",
       "      <td>0</td>\n",
       "      <td>0</td>\n",
       "    </tr>\n",
       "    <tr>\n",
       "      <th>1</th>\n",
       "      <td>1</td>\n",
       "      <td>2</td>\n",
       "      <td>3</td>\n",
       "      <td>876893171</td>\n",
       "      <td>0</td>\n",
       "      <td>1</td>\n",
       "    </tr>\n",
       "    <tr>\n",
       "      <th>2</th>\n",
       "      <td>1</td>\n",
       "      <td>3</td>\n",
       "      <td>4</td>\n",
       "      <td>878542960</td>\n",
       "      <td>0</td>\n",
       "      <td>2</td>\n",
       "    </tr>\n",
       "    <tr>\n",
       "      <th>3</th>\n",
       "      <td>1</td>\n",
       "      <td>4</td>\n",
       "      <td>3</td>\n",
       "      <td>876893119</td>\n",
       "      <td>0</td>\n",
       "      <td>3</td>\n",
       "    </tr>\n",
       "    <tr>\n",
       "      <th>4</th>\n",
       "      <td>1</td>\n",
       "      <td>5</td>\n",
       "      <td>3</td>\n",
       "      <td>889751712</td>\n",
       "      <td>0</td>\n",
       "      <td>4</td>\n",
       "    </tr>\n",
       "  </tbody>\n",
       "</table>\n",
       "</div>"
      ],
      "text/plain": [
       "   user_id  content_id  score         ts  user_factorize_id  \\\n",
       "0        1           1      5  874965758                  0   \n",
       "1        1           2      3  876893171                  0   \n",
       "2        1           3      4  878542960                  0   \n",
       "3        1           4      3  876893119                  0   \n",
       "4        1           5      3  889751712                  0   \n",
       "\n",
       "   content_factorize_id  \n",
       "0                     0  \n",
       "1                     1  \n",
       "2                     2  \n",
       "3                     3  \n",
       "4                     4  "
      ]
     },
     "execution_count": 18,
     "metadata": {},
     "output_type": "execute_result"
    }
   ],
   "source": [
    "pd_factorize_data.head()"
   ]
  },
  {
   "cell_type": "code",
   "execution_count": 19,
   "metadata": {},
   "outputs": [
    {
     "name": "stdout",
     "output_type": "stream",
     "text": [
      "用户数：943，内容数：1680\n"
     ]
    }
   ],
   "source": [
    "user_num = pd_factorize_data['user_factorize_id'].max() + 1\n",
    "content_mum = pd_factorize_data['content_factorize_id'].max() + 1\n",
    "print('用户数：'+str(user_num)+'，内容数：'+str(content_mum))"
   ]
  },
  {
   "cell_type": "code",
   "execution_count": 20,
   "metadata": {},
   "outputs": [
    {
     "name": "stdout",
     "output_type": "stream",
     "text": [
      "deal with 943 users,the total cost 486.72 seconds\n"
     ]
    }
   ],
   "source": [
    "user_rec_dict,user_rec_score_dict = UserCF(pd_factorize_data, rating_matrix)\n",
    "# deal with 943 users,the total cost 491.25 seconds"
   ]
  },
  {
   "cell_type": "code",
   "execution_count": 22,
   "metadata": {},
   "outputs": [
    {
     "name": "stdout",
     "output_type": "stream",
     "text": [
      "we reccommend 1:[1009, 919, 512, 483, 425, 421, 511, 527, 484, 382]\n",
      "the reccommend score:[2.7802981158614894, 2.7802981158614894, 2.7802981158614894, 2.7802981158614894, 2.7802981158614894, 2.7802981158614894, 2.7802981158614894, 2.2242384926891914, 2.2242384926891914, 2.2242384926891914]\n"
     ]
    }
   ],
   "source": [
    "user_id = 1\n",
    "rec_num = 10\n",
    "rec_list = user_rec_dict.get(user_id)[0:rec_num]\n",
    "rec_score_list = user_rec_score_dict.get(user_id)[0:rec_num]\n",
    "print('we reccommend '+str(user_id)+':'+str(rec_list))\n",
    "print('the reccommend score:'+str(rec_score_list))"
   ]
  }
 ],
 "metadata": {
  "interpreter": {
   "hash": "d1b12ec407f11705f278c1c0de0a883a8010282eee00365b5ee4244d380b6f34"
  },
  "kernelspec": {
   "display_name": "Python 3",
   "language": "python",
   "name": "python3"
  },
  "language_info": {
   "codemirror_mode": {
    "name": "ipython",
    "version": 3
   },
   "file_extension": ".py",
   "mimetype": "text/x-python",
   "name": "python",
   "nbconvert_exporter": "python",
   "pygments_lexer": "ipython3",
   "version": "3.6.2"
  }
 },
 "nbformat": 4,
 "nbformat_minor": 2
}
